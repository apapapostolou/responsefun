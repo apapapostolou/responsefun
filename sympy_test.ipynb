{
 "cells": [
  {
   "cell_type": "code",
   "execution_count": 51,
   "metadata": {},
   "outputs": [],
   "source": [
    "import sympy\n",
    "from sympy.physics.quantum.state import Ket, Bra\n",
    "from sympy.physics.quantum.operator import HermitianOperator\n",
    "from sympy import init_printing\n",
    "from sympy import symbols, Sum, oo\n",
    "from sympy import Function, Symbol\n",
    "init_printing()"
   ]
  },
  {
   "cell_type": "code",
   "execution_count": 4,
   "metadata": {},
   "outputs": [],
   "source": [
    "w1, w2, w3 = symbols(\"w1 w2 w3\")\n",
    "# expression = Bra(\"n\") * HermitianOperator(\"mu_alpha\") * Ket(\"0\")/(w1-w2) - 1/2 *Bra(\"n\") * HermitianOperator(\"mu\") * Ket(\"0\")/(w1-w3)\n",
    "# n = Bra(\"n\")\n",
    "# n.label[0]\n",
    "# print(expression.args)\n",
    "# expression"
   ]
  },
  {
   "cell_type": "code",
   "execution_count": 25,
   "metadata": {},
   "outputs": [],
   "source": [
    "n, m, null = symbols(\"n m 0\")\n",
    "\n",
    "q1, q2 = symbols(\"w w\", real=True)\n",
    "# a = Function(\"alpha\")(-q1, q2)\n",
    "Sum(Bra(n) * HermitianOperator(\"mu_alpha\") * Ket(null), (n, 1, 1))\n",
    "\n",
    "class a(Function):\n",
    "    @classmethod\n",
    "    def eval(cls, y):\n",
    "        w = Symbol(\"w_{n0}\", real=True)\n",
    "#         o = Symbol(\"0\")\n",
    "        return Sum(\n",
    "            Bra(0) * HermitianOperator(\"mu_alpha\") * Ket(n) *\n",
    "            Bra(n) * HermitianOperator(\"mu_beta\") * Ket(0)/(w-y)\n",
    "            + Bra(0) * HermitianOperator(\"mu_beta\") * Ket(n) *\n",
    "            Bra(n) * HermitianOperator(\"mu_alpha\") * Ket(0)/(w+y), (n, 1, oo)\n",
    "        )"
   ]
  },
  {
   "cell_type": "code",
   "execution_count": 26,
   "metadata": {},
   "outputs": [
    {
     "data": {
      "text/plain": [
       "True"
      ]
     },
     "execution_count": 26,
     "metadata": {},
     "output_type": "execute_result"
    }
   ],
   "source": [
    "a(0).args[0].args[0].adjoint() == a(0).args[0].args[1]"
   ]
  },
  {
   "cell_type": "code",
   "execution_count": 29,
   "metadata": {},
   "outputs": [],
   "source": [
    "class beta(Function):\n",
    "    @classmethod\n",
    "    def eval(cls, y):\n",
    "        w = Symbol(\"w_{n0}\", real=True)\n",
    "        return (Bra(0) * HermitianOperator(\"mu_alpha\") * Ket(n)\n",
    "                * Bra(n) * HermitianOperator(\"mu_beta\") * Ket(m)\n",
    "                * Bra(m) * HermitianOperator(\"mu_gamma\") * Ket(0)/(w-y)\n",
    "                + Bra(0) * HermitianOperator(\"mu_gamma\") * Ket(n) *\n",
    "                Bra(n) * HermitianOperator(\"mu_beta\") * Ket(m)\n",
    "                * Bra(m) * HermitianOperator(\"mu_alpha\") * Ket(0)/(w+y)\n",
    "       )"
   ]
  },
  {
   "cell_type": "code",
   "execution_count": 38,
   "metadata": {},
   "outputs": [
    {
     "data": {
      "text/plain": [
       "True"
      ]
     },
     "execution_count": 38,
     "metadata": {},
     "output_type": "execute_result"
    }
   ],
   "source": [
    "beta(0).args[0].adjoint().subs({m:n, n:m}, simultaneous=True) == beta(0).args[1]"
   ]
  },
  {
   "cell_type": "code",
   "execution_count": 123,
   "metadata": {},
   "outputs": [],
   "source": [
    "from sympy.physics.quantum import state as qmstate\n",
    "from sympy.physics.quantum import operator as qmoperator\n",
    "from sympy import srepr\n",
    "\n",
    "def expectation_value_from_string(string):\n",
    "    components = string.split(\"|\")\n",
    "    assert len(components) == 3\n",
    "    bra_string = components[0].strip(\"<\")\n",
    "    ket_string = components[2].strip(\">\")\n",
    "    operator_string = components[1]\n",
    "    bra = qmstate.Bra(bra_string)\n",
    "    ket = qmstate.Ket(ket_string)\n",
    "    operator = qmoperator.HermitianOperator(operator_string)\n",
    "    \n",
    "    return bra, operator, ket\n",
    "\n",
    "class ResponseFunction:\n",
    "    def __init__(self, string):\n",
    "        \"\"\"\n",
    "        <<omega;V_beta^omega>>\n",
    "        \"\"\"\n",
    "\n",
    "\n",
    "class TransitionMoment:\n",
    "    def __init__(self, string):\n",
    "        \"\"\"\n",
    "        <0|mu_alpha|n>\n",
    "        \"\"\"\n",
    "        if not isinstance(string, str):\n",
    "            raise TypeError(\"Please provide a string to create a TransitionMoment\")\n",
    "        self.bra, self.operator, self.ket = expectation_value_from_string(string)\n",
    "        self.build_expression()\n",
    "    \n",
    "    def build_expression(self):\n",
    "        self.expression = self.bra * self.operator * self.ket\n",
    "    \n",
    "    def __str__(self):\n",
    "        return srepr(self.expression)\n",
    "    \n",
    "    def __mul__(self, other):\n",
    "        if isinstance(other, TransitionMoment):\n",
    "            return self.expression * other.expression\n",
    "        else:\n",
    "            return self.expression * other\n",
    "        \n",
    "mu_alpha_tdm = TransitionMoment(\"<0|mu_alpha|n>\")\n",
    "mu_beta_tdm = TransitionMoment(r\"<n|\\bar{\\mu_\\beta}|m>\")\n",
    "mu_gamma_tdm = TransitionMoment(\"<m|mu_gamma|0>\")\n",
    "\n",
    "wn0, wsig, wm0, w2, w1 = symbols(\"\\omega_{n0} -\\omega_\\sigma \\omega_{m0} \\omega_2 \\omega_1\")\n",
    "\n",
    "wsig = (w1 + w2)"
   ]
  },
  {
   "cell_type": "code",
   "execution_count": 124,
   "metadata": {},
   "outputs": [
    {
     "data": {
      "image/png": "[encoded data removed]",
      "text/latex": [
       "$$\\frac{{\\left\\langle 0\\right|} \\mu_{\\alpha} {\\left|n\\right\\rangle } {\\left\\langle n\\right|} \\bar{\\mu_\\beta} {\\left|m\\right\\rangle } {\\left\\langle m\\right|} \\mu_{\\gamma} {\\left|0\\right\\rangle }}{\\left(- \\omega_2 + \\omega_{m0}\\right) \\left(- \\omega_1 - \\omega_2 + \\omega_{n0}\\right)}$$"
      ],
      "text/plain": [
       "     ⟨0❘⋅μₐₗₚₕₐ⋅❘n⟩⋅⟨n❘⋅\\bar{\\mu_\\beta}⋅❘m⟩⋅⟨m❘⋅μᵧ⋅❘0⟩     \n",
       "───────────────────────────────────────────────────────────\n",
       "(-\\omega₂ + \\omega_{m0})⋅(-\\omega₁ - \\omega₂ + \\omega_{n0})"
      ]
     },
     "execution_count": 124,
     "metadata": {},
     "output_type": "execute_result"
    }
   ],
   "source": [
    "bla = mu_alpha_tdm * (mu_beta_tdm * mu_gamma_tdm)/((wn0-wsig)*(wm0-w2))\n",
    "bla"
   ]
  },
  {
   "cell_type": "code",
   "execution_count": 126,
   "metadata": {},
   "outputs": [
    {
     "data": {
      "image/png": "[encoded data removed]",
      "text/latex": [
       "$$\\frac{{\\left\\langle 0\\right|} \\mu_{\\gamma} {\\left|n\\right\\rangle } {\\left\\langle n\\right|} \\bar{\\mu_\\beta} {\\left|m\\right\\rangle } {\\left\\langle m\\right|} \\mu_{\\alpha} {\\left|0\\right\\rangle }}{\\left(\\omega_2 + \\omega_{n0}\\right) \\left(\\omega_1 + \\omega_2 + \\omega_{m0}\\right)}$$"
      ],
      "text/plain": [
       "    ⟨0❘⋅μᵧ⋅❘n⟩⋅⟨n❘⋅\\bar{\\mu_\\beta}⋅❘m⟩⋅⟨m❘⋅μₐₗₚₕₐ⋅❘0⟩    \n",
       "─────────────────────────────────────────────────────────\n",
       "(\\omega₂ + \\omega_{n0})⋅(\\omega₁ + \\omega₂ + \\omega_{m0})"
      ]
     },
     "execution_count": 126,
     "metadata": {},
     "output_type": "execute_result"
    }
   ],
   "source": [
    "# generate permutation\n",
    "bla.subs({-wsig:w2, w2:-wsig, \"mu_alpha\": \"mu_gamma\", \"mu_gamma\" : \"mu_alpha\"}, simultaneous=True)"
   ]
  },
  {
   "cell_type": "code",
   "execution_count": null,
   "metadata": {},
   "outputs": [],
   "source": []
  }
 ],
 "metadata": {
  "kernelspec": {
   "display_name": "Python 3",
   "language": "python",
   "name": "python3"
  },
  "language_info": {
   "codemirror_mode": {
    "name": "ipython",
    "version": 3
   },
   "file_extension": ".py",
   "mimetype": "text/x-python",
   "name": "python",
   "nbconvert_exporter": "python",
   "pygments_lexer": "ipython3",
   "version": "3.7.2"
  },
  "varInspector": {
   "cols": {
    "lenName": 16,
    "lenType": 16,
    "lenVar": 40
   },
   "kernels_config": {
    "python": {
     "delete_cmd_postfix": "",
     "delete_cmd_prefix": "del ",
     "library": "var_list.py",
     "varRefreshCmd": "print(var_dic_list())"
    },
    "r": {
     "delete_cmd_postfix": ") ",
     "delete_cmd_prefix": "rm(",
     "library": "var_list.r",
     "varRefreshCmd": "cat(var_dic_list()) "
    }
   },
   "types_to_exclude": [
    "module",
    "function",
    "builtin_function_or_method",
    "instance",
    "_Feature"
   ],
   "window_display": false
  }
 },
 "nbformat": 4,
 "nbformat_minor": 2
}
