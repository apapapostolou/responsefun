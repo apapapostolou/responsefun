{
 "cells": [
  {
   "cell_type": "code",
   "execution_count": 1,
   "metadata": {},
   "outputs": [],
   "source": [
    "import sympy\n",
    "from sympy.physics.quantum.state import Ket, Bra\n",
    "from sympy.physics.quantum.operator import HermitianOperator\n",
    "from sympy import init_printing\n",
    "from sympy import symbols, Sum, oo\n",
    "from sympy import Function, Symbol\n",
    "init_printing()"
   ]
  },
  {
   "cell_type": "code",
   "execution_count": 2,
   "metadata": {},
   "outputs": [],
   "source": [
    "w1, w2, w3 = symbols(\"w1 w2 w3\")\n",
    "# expression = Bra(\"n\") * HermitianOperator(\"mu_alpha\") * Ket(\"0\")/(w1-w2) - 1/2 *Bra(\"n\") * HermitianOperator(\"mu\") * Ket(\"0\")/(w1-w3)\n",
    "# n = Bra(\"n\")\n",
    "# n.label[0]\n",
    "# print(expression.args)\n",
    "# expression"
   ]
  },
  {
   "cell_type": "code",
   "execution_count": 3,
   "metadata": {},
   "outputs": [],
   "source": [
    "n, m, null = symbols(\"n m 0\")\n",
    "\n",
    "q1, q2 = symbols(\"w w\", real=True)\n",
    "# a = Function(\"alpha\")(-q1, q2)\n",
    "Sum(Bra(n) * HermitianOperator(\"mu_alpha\") * Ket(null), (n, 1, 1))\n",
    "\n",
    "class a(Function):\n",
    "    @classmethod\n",
    "    def eval(cls, y):\n",
    "        w = Symbol(\"w_{n0}\", real=True)\n",
    "#         o = Symbol(\"0\")\n",
    "        return Sum(\n",
    "            Bra(0) * HermitianOperator(\"mu_alpha\") * Ket(n) *\n",
    "            Bra(n) * HermitianOperator(\"mu_beta\") * Ket(0)/(w-y)\n",
    "            + Bra(0) * HermitianOperator(\"mu_beta\") * Ket(n) *\n",
    "            Bra(n) * HermitianOperator(\"mu_alpha\") * Ket(0)/(w+y), (n, 1, oo)\n",
    "        )"
   ]
  },
  {
   "cell_type": "code",
   "execution_count": 4,
   "metadata": {},
   "outputs": [
    {
     "data": {
      "image/png": "[encoded data removed]",
      "text/latex": [
       "$$\\sum_{n=1}^{\\infty} \\left(\\frac{{\\left\\langle 0\\right|} \\mu_{\\alpha} {\\left|n\\right\\rangle } {\\left\\langle n\\right|} \\mu_{\\beta} {\\left|0\\right\\rangle }}{w_{n0}} + \\frac{{\\left\\langle 0\\right|} \\mu_{\\beta} {\\left|n\\right\\rangle } {\\left\\langle n\\right|} \\mu_{\\alpha} {\\left|0\\right\\rangle }}{w_{n0}}\\right)$$"
      ],
      "text/plain": [
       "  ∞                                                          \n",
       " ____                                                        \n",
       " ╲                                                           \n",
       "  ╲   ⎛⟨0❘⋅μₐₗₚₕₐ⋅❘n⟩⋅⟨n❘⋅μᵦ⋅❘0⟩   ⟨0❘⋅μᵦ⋅❘n⟩⋅⟨n❘⋅μₐₗₚₕₐ⋅❘0⟩⎞\n",
       "   ╲  ⎜───────────────────────── + ─────────────────────────⎟\n",
       "   ╱  ⎝          w_{n0}                      w_{n0}         ⎠\n",
       "  ╱                                                          \n",
       " ╱                                                           \n",
       " ‾‾‾‾                                                        \n",
       "n = 1                                                        "
      ]
     },
     "execution_count": 4,
     "metadata": {},
     "output_type": "execute_result"
    }
   ],
   "source": [
    "a(0)"
   ]
  },
  {
   "cell_type": "code",
   "execution_count": 5,
   "metadata": {},
   "outputs": [],
   "source": [
    "class beta(Function):\n",
    "    @classmethod\n",
    "    def eval(cls, y):\n",
    "        w = Symbol(\"w_{n0}\", real=True)\n",
    "        return (Bra(0) * HermitianOperator(\"mu_alpha\") * Ket(n)\n",
    "                * Bra(n) * HermitianOperator(\"mu_beta\") * Ket(m)\n",
    "                * Bra(m) * HermitianOperator(\"mu_gamma\") * Ket(0)/(w-y)\n",
    "                + Bra(0) * HermitianOperator(\"mu_gamma\") * Ket(n) *\n",
    "                Bra(n) * HermitianOperator(\"mu_beta\") * Ket(m)\n",
    "                * Bra(m) * HermitianOperator(\"mu_alpha\") * Ket(0)/(w+y)\n",
    "       )"
   ]
  },
  {
   "cell_type": "code",
   "execution_count": 6,
   "metadata": {},
   "outputs": [
    {
     "data": {
      "text/plain": [
       "True"
      ]
     },
     "execution_count": 6,
     "metadata": {},
     "output_type": "execute_result"
    }
   ],
   "source": [
    "beta(0).args[0].adjoint().subs({m:n, n:m}, simultaneous=True) == beta(0).args[1]"
   ]
  },
  {
   "cell_type": "code",
   "execution_count": 7,
   "metadata": {},
   "outputs": [],
   "source": [
    "from sympy.physics.quantum import state as qmstate\n",
    "from sympy.physics.quantum import operator as qmoperator\n",
    "from sympy import srepr\n",
    "\n",
    "def expectation_value_from_string(string):\n",
    "    components = string.split(\"|\")\n",
    "    assert len(components) == 3\n",
    "    bra_string = components[0].strip(\"<\")\n",
    "    ket_string = components[2].strip(\">\")\n",
    "    operator_string = components[1]\n",
    "    bra = qmstate.Bra(bra_string)\n",
    "    ket = qmstate.Ket(ket_string)\n",
    "    operator = qmoperator.HermitianOperator(operator_string)\n",
    "    \n",
    "    return bra, operator, ket\n",
    "\n",
    "class ResponseFunction:\n",
    "    def __init__(self, string):\n",
    "        \"\"\"\n",
    "        <<omega;V_beta^omega>>\n",
    "        \"\"\"\n",
    "\n",
    "\n",
    "class TransitionMoment:\n",
    "    def __init__(self, string):\n",
    "        \"\"\"\n",
    "        <0|mu_alpha|n>\n",
    "        \"\"\"\n",
    "        if not isinstance(string, str):\n",
    "            raise TypeError(\"Please provide a string to create a TransitionMoment\")\n",
    "        self.bra, self.operator, self.ket = expectation_value_from_string(string)\n",
    "        self.build_expression()\n",
    "    \n",
    "    def build_expression(self):\n",
    "        self.expression = self.bra * self.operator * self.ket\n",
    "    \n",
    "    def __str__(self):\n",
    "        return srepr(self.expression)\n",
    "    \n",
    "    def __mul__(self, other):\n",
    "        if isinstance(other, TransitionMoment):\n",
    "            return self.expression * other.expression\n",
    "        else:\n",
    "            return self.expression * other\n",
    "        \n",
    "mu_alpha_tdm = TransitionMoment(\"<0|mu_alpha|n>\")\n",
    "mu_beta_tdm = TransitionMoment(r\"<n|\\bar{\\mu_\\beta}|m>\")\n",
    "mu_gamma_tdm = TransitionMoment(\"<m|mu_gamma|0>\")\n",
    "\n",
    "wn0, wsig, wm0, w2, w1 = symbols(\"\\omega_{n0} -\\omega_\\sigma \\omega_{m0} \\omega_2 \\omega_1\")\n",
    "\n",
    "wsig = (w1 + w2)"
   ]
  },
  {
   "cell_type": "code",
   "execution_count": 8,
   "metadata": {},
   "outputs": [
    {
     "data": {
      "image/png": "[encoded data removed]",
      "text/latex": [
       "$$\\frac{{\\left\\langle 0\\right|} \\mu_{\\alpha} {\\left|n\\right\\rangle } {\\left\\langle n\\right|} \\bar{\\mu_\\beta} {\\left|m\\right\\rangle } {\\left\\langle m\\right|} \\mu_{\\gamma} {\\left|0\\right\\rangle }}{\\left(- \\omega_2 + \\omega_{m0}\\right) \\left(- \\omega_1 - \\omega_2 + \\omega_{n0}\\right)}$$"
      ],
      "text/plain": [
       "     ⟨0❘⋅μₐₗₚₕₐ⋅❘n⟩⋅⟨n❘⋅\\bar{\\mu_\\beta}⋅❘m⟩⋅⟨m❘⋅μᵧ⋅❘0⟩     \n",
       "───────────────────────────────────────────────────────────\n",
       "(-\\omega₂ + \\omega_{m0})⋅(-\\omega₁ - \\omega₂ + \\omega_{n0})"
      ]
     },
     "execution_count": 8,
     "metadata": {},
     "output_type": "execute_result"
    }
   ],
   "source": [
    "bla = mu_alpha_tdm * (mu_beta_tdm * mu_gamma_tdm)/((wn0-wsig)*(wm0-w2))\n",
    "bla"
   ]
  },
  {
   "cell_type": "code",
   "execution_count": 9,
   "metadata": {},
   "outputs": [
    {
     "data": {
      "image/png": "[encoded data removed]",
      "text/latex": [
       "$$\\frac{{\\left\\langle 0\\right|} \\mu_{\\gamma} {\\left|n\\right\\rangle } {\\left\\langle n\\right|} \\bar{\\mu_\\beta} {\\left|m\\right\\rangle } {\\left\\langle m\\right|} \\mu_{\\alpha} {\\left|0\\right\\rangle }}{\\left(\\omega_2 + \\omega_{n0}\\right) \\left(\\omega_1 + \\omega_2 + \\omega_{m0}\\right)}$$"
      ],
      "text/plain": [
       "    ⟨0❘⋅μᵧ⋅❘n⟩⋅⟨n❘⋅\\bar{\\mu_\\beta}⋅❘m⟩⋅⟨m❘⋅μₐₗₚₕₐ⋅❘0⟩    \n",
       "─────────────────────────────────────────────────────────\n",
       "(\\omega₂ + \\omega_{n0})⋅(\\omega₁ + \\omega₂ + \\omega_{m0})"
      ]
     },
     "execution_count": 9,
     "metadata": {},
     "output_type": "execute_result"
    }
   ],
   "source": [
    "# generate permutation\n",
    "bla.subs({-wsig:w2, w2:-wsig, \"mu_alpha\": \"mu_gamma\", \"mu_gamma\" : \"mu_alpha\"}, simultaneous=True)"
   ]
  },
  {
   "cell_type": "code",
   "execution_count": 10,
   "metadata": {},
   "outputs": [],
   "source": [
    "from responsefun.response.sum_over_states import SumOverStatesExpression\n",
    "import sympy.physics.quantum.operator as qmoperator\n",
    "from sympy import Symbol\n",
    "from sympy import latex"
   ]
  },
  {
   "cell_type": "code",
   "execution_count": 11,
   "metadata": {},
   "outputs": [],
   "source": [
    "init_printing()\n",
    "test_op_a = qmoperator.HermitianOperator(\"mu_alpha\")\n",
    "test_op_b = -qmoperator.HermitianOperator(r\"\\mu_\\beta\")\n",
    "w = Symbol(\"w\", real=True)\n",
    "sos = SumOverStatesExpression(summation_indices=[\"n\"], operators=[test_op_a, test_op_b],\n",
    "                              frequencies=[w])"
   ]
  },
  {
   "cell_type": "code",
   "execution_count": 12,
   "metadata": {},
   "outputs": [
    {
     "name": "stdout",
     "output_type": "stream",
     "text": [
      "\\frac{{\\left\\langle 0\\right|} \\mu_\\beta {\\left|n\\right\\rangle } {\\left\\langle n\\right|} \\mu_{\\alpha} {\\left|0\\right\\rangle }}{w + w_{n}} + \\frac{{\\left\\langle 0\\right|} \\mu_{\\alpha} {\\left|n\\right\\rangle } {\\left\\langle n\\right|} \\mu_\\beta {\\left|0\\right\\rangle }}{- w + w_{n}}\n"
     ]
    }
   ],
   "source": [
    "print(latex(sos.expression))"
   ]
  },
  {
   "cell_type": "code",
   "execution_count": 13,
   "metadata": {},
   "outputs": [
    {
     "data": {
      "image/png": "[encoded data removed]",
      "text/latex": [
       "$$\\frac{{\\left\\langle 0\\right|} \\mu_\\beta {\\left|n\\right\\rangle } {\\left\\langle n\\right|} \\mu_{\\alpha} {\\left|0\\right\\rangle }}{w + w_{n}} + \\frac{{\\left\\langle 0\\right|} \\mu_{\\alpha} {\\left|n\\right\\rangle } {\\left\\langle n\\right|} \\mu_\\beta {\\left|0\\right\\rangle }}{- w + w_{n}}$$"
      ],
      "text/plain": [
       "⟨0❘⋅\\mu_\\beta⋅❘n⟩⋅⟨n❘⋅μₐₗₚₕₐ⋅❘0⟩   ⟨0❘⋅μₐₗₚₕₐ⋅❘n⟩⋅⟨n❘⋅\\mu_\\beta⋅❘0⟩\n",
       "──────────────────────────────── + ────────────────────────────────\n",
       "             w + wₙ                            -w + wₙ             "
      ]
     },
     "execution_count": 13,
     "metadata": {},
     "output_type": "execute_result"
    }
   ],
   "source": [
    "sos.expression"
   ]
  },
  {
   "cell_type": "code",
   "execution_count": 14,
   "metadata": {},
   "outputs": [
    {
     "name": "stdout",
     "output_type": "stream",
     "text": [
      "2\n"
     ]
    }
   ],
   "source": [
    "print(len(sos.expression.args))"
   ]
  },
  {
   "cell_type": "code",
   "execution_count": 15,
   "metadata": {},
   "outputs": [
    {
     "name": "stdout",
     "output_type": "stream",
     "text": [
      "\\frac{{\\left\\langle 0\\right|} \\mu_\\beta {\\left|n\\right\\rangle } {\\left\\langle n\\right|} \\mu_{\\alpha} {\\left|0\\right\\rangle }}{w + w_{n}} + \\frac{{\\left\\langle 0\\right|} \\mu_{\\alpha} {\\left|n\\right\\rangle } {\\left\\langle n\\right|} \\mu_\\beta {\\left|0\\right\\rangle }}{- w + w_{n}}\n"
     ]
    }
   ],
   "source": [
    "print(sos.latex)"
   ]
  },
  {
   "cell_type": "code",
   "execution_count": 16,
   "metadata": {},
   "outputs": [],
   "source": [
    "test_op_a = qmoperator.HermitianOperator(r\"\\mu_{\\alpha}\")\n",
    "test_op_b = -qmoperator.HermitianOperator(r\"\\mu_{\\beta}\")\n",
    "test_op_c = -qmoperator.HermitianOperator(r\"\\mu_{\\gamma}\")\n",
    "w1, w2 = symbols(\"w_1 w_2\", real=True)\n",
    "sos = SumOverStatesExpression(summation_indices=[\"n\", \"m\"], operators=[test_op_a, test_op_b, test_op_c],\n",
    "                              frequencies=[w1, w2])"
   ]
  },
  {
   "cell_type": "code",
   "execution_count": 17,
   "metadata": {},
   "outputs": [
    {
     "name": "stdout",
     "output_type": "stream",
     "text": [
      "\\frac{{\\left\\langle 0\\right|} \\mu_{\\beta} {\\left|m\\right\\rangle } {\\left\\langle m\\right|} \\bar{ \\mu_{\\gamma} } {\\left|n\\right\\rangle } {\\left\\langle n\\right|} \\mu_{\\alpha} {\\left|0\\right\\rangle }}{\\left(w_{2} + w_{m}\\right) \\left(w_{n} + w_{\\sigma}\\right)} + \\frac{{\\left\\langle 0\\right|} \\mu_{\\alpha} {\\left|m\\right\\rangle } {\\left\\langle m\\right|} \\bar{ \\mu_{\\beta} } {\\left|n\\right\\rangle } {\\left\\langle n\\right|} \\mu_{\\gamma} {\\left|0\\right\\rangle }}{\\left(- w_{2} + w_{n}\\right) \\left(w_{m} - w_{\\sigma}\\right)} + \\frac{{\\left\\langle 0\\right|} \\mu_{\\beta} {\\left|m\\right\\rangle } {\\left\\langle m\\right|} \\bar{ \\mu_{\\gamma} } {\\left|n\\right\\rangle } {\\left\\langle n\\right|} \\mu_{\\alpha} {\\left|0\\right\\rangle }}{\\left(w_{1} + w_{m}\\right) \\left(w_{n} + w_{\\sigma}\\right)} + \\frac{{\\left\\langle 0\\right|} \\mu_{\\beta} {\\left|m\\right\\rangle } {\\left\\langle m\\right|} \\bar{ \\mu_{\\alpha} } {\\left|n\\right\\rangle } {\\left\\langle n\\right|} \\mu_{\\gamma} {\\left|0\\right\\rangle }}{\\left(w_{1} + w_{m}\\right) \\left(- w_{2} + w_{n}\\right)} + \\frac{{\\left\\langle 0\\right|} \\mu_{\\alpha} {\\left|m\\right\\rangle } {\\left\\langle m\\right|} \\bar{ \\mu_{\\beta} } {\\left|n\\right\\rangle } {\\left\\langle n\\right|} \\mu_{\\gamma} {\\left|0\\right\\rangle }}{\\left(- w_{1} + w_{n}\\right) \\left(w_{m} - w_{\\sigma}\\right)} + \\frac{{\\left\\langle 0\\right|} \\mu_{\\beta} {\\left|m\\right\\rangle } {\\left\\langle m\\right|} \\bar{ \\mu_{\\alpha} } {\\left|n\\right\\rangle } {\\left\\langle n\\right|} \\mu_{\\gamma} {\\left|0\\right\\rangle }}{\\left(- w_{1} + w_{n}\\right) \\left(w_{2} + w_{m}\\right)}\n"
     ]
    }
   ],
   "source": [
    "print(sos.latex)"
   ]
  },
  {
   "cell_type": "code",
   "execution_count": 18,
   "metadata": {},
   "outputs": [
    {
     "data": {
      "image/png": "[encoded data removed]",
      "text/latex": [
       "$$\\frac{{\\left\\langle 0\\right|} \\mu_{\\beta} {\\left|m\\right\\rangle } {\\left\\langle m\\right|} \\bar{ \\mu_{\\gamma} } {\\left|n\\right\\rangle } {\\left\\langle n\\right|} \\mu_{\\alpha} {\\left|0\\right\\rangle }}{\\left(w_{2} + w_{m}\\right) \\left(w_{n} + w_{\\sigma}\\right)} + \\frac{{\\left\\langle 0\\right|} \\mu_{\\alpha} {\\left|m\\right\\rangle } {\\left\\langle m\\right|} \\bar{ \\mu_{\\beta} } {\\left|n\\right\\rangle } {\\left\\langle n\\right|} \\mu_{\\gamma} {\\left|0\\right\\rangle }}{\\left(- w_{2} + w_{n}\\right) \\left(w_{m} - w_{\\sigma}\\right)} + \\frac{{\\left\\langle 0\\right|} \\mu_{\\beta} {\\left|m\\right\\rangle } {\\left\\langle m\\right|} \\bar{ \\mu_{\\gamma} } {\\left|n\\right\\rangle } {\\left\\langle n\\right|} \\mu_{\\alpha} {\\left|0\\right\\rangle }}{\\left(w_{1} + w_{m}\\right) \\left(w_{n} + w_{\\sigma}\\right)} + \\frac{{\\left\\langle 0\\right|} \\mu_{\\beta} {\\left|m\\right\\rangle } {\\left\\langle m\\right|} \\bar{ \\mu_{\\alpha} } {\\left|n\\right\\rangle } {\\left\\langle n\\right|} \\mu_{\\gamma} {\\left|0\\right\\rangle }}{\\left(w_{1} + w_{m}\\right) \\left(- w_{2} + w_{n}\\right)} + \\frac{{\\left\\langle 0\\right|} \\mu_{\\alpha} {\\left|m\\right\\rangle } {\\left\\langle m\\right|} \\bar{ \\mu_{\\beta} } {\\left|n\\right\\rangle } {\\left\\langle n\\right|} \\mu_{\\gamma} {\\left|0\\right\\rangle }}{\\left(- w_{1} + w_{n}\\right) \\left(w_{m} - w_{\\sigma}\\right)} + \\frac{{\\left\\langle 0\\right|} \\mu_{\\beta} {\\left|m\\right\\rangle } {\\left\\langle m\\right|} \\bar{ \\mu_{\\alpha} } {\\left|n\\right\\rangle } {\\left\\langle n\\right|} \\mu_{\\gamma} {\\left|0\\right\\rangle }}{\\left(- w_{1} + w_{n}\\right) \\left(w_{2} + w_{m}\\right)}$$"
      ],
      "text/plain": [
       "⟨0❘⋅\\mu_{\\beta}⋅❘m⟩⋅⟨m❘⋅\\bar{ \\mu_{\\gamma} }⋅❘n⟩⋅⟨n❘⋅\\mu_{\\alpha}⋅❘0⟩   ⟨0❘⋅\\m\n",
       "───────────────────────────────────────────────────────────────────── + ──────\n",
       "                         (w₂ + wₘ)⋅(wₙ + w_σ)                                 \n",
       "\n",
       "u_{\\alpha}⋅❘m⟩⋅⟨m❘⋅\\bar{ \\mu_{\\beta} }⋅❘n⟩⋅⟨n❘⋅\\mu_{\\gamma}⋅❘0⟩   ⟨0❘⋅\\mu_{\\be\n",
       "─────────────────────────────────────────────────────────────── + ────────────\n",
       "                  (-w₂ + wₙ)⋅(wₘ - w_σ)                                       \n",
       "\n",
       "ta}⋅❘m⟩⋅⟨m❘⋅\\bar{ \\mu_{\\gamma} }⋅❘n⟩⋅⟨n❘⋅\\mu_{\\alpha}⋅❘0⟩   ⟨0❘⋅\\mu_{\\beta}⋅❘m\n",
       "───────────────────────────────────────────────────────── + ──────────────────\n",
       "             (w₁ + wₘ)⋅(wₙ + w_σ)                                             \n",
       "\n",
       "⟩⋅⟨m❘⋅\\bar{ \\mu_{\\alpha} }⋅❘n⟩⋅⟨n❘⋅\\mu_{\\gamma}⋅❘0⟩   ⟨0❘⋅\\mu_{\\alpha}⋅❘m⟩⋅⟨m❘\n",
       "─────────────────────────────────────────────────── + ────────────────────────\n",
       "       (w₁ + wₘ)⋅(-w₂ + wₙ)                                                   \n",
       "\n",
       "⋅\\bar{ \\mu_{\\beta} }⋅❘n⟩⋅⟨n❘⋅\\mu_{\\gamma}⋅❘0⟩   ⟨0❘⋅\\mu_{\\beta}⋅❘m⟩⋅⟨m❘⋅\\bar{ \n",
       "───────────────────────────────────────────── + ──────────────────────────────\n",
       "(-w₁ + wₙ)⋅(wₘ - w_σ)                                                    (-w₁ \n",
       "\n",
       "\\mu_{\\alpha} }⋅❘n⟩⋅⟨n❘⋅\\mu_{\\gamma}⋅❘0⟩\n",
       "───────────────────────────────────────\n",
       "+ wₙ)⋅(w₂ + wₘ)                        "
      ]
     },
     "execution_count": 18,
     "metadata": {},
     "output_type": "execute_result"
    }
   ],
   "source": [
    "sos.expression"
   ]
  },
  {
   "cell_type": "code",
   "execution_count": 19,
   "metadata": {},
   "outputs": [
    {
     "data": {
      "image/png": "[encoded data removed]",
      "text/latex": [
       "$$\\left ( -1,b\\right )$$"
      ],
      "text/plain": [
       "(-1,b,)"
      ]
     },
     "execution_count": 19,
     "metadata": {},
     "output_type": "execute_result"
    }
   ],
   "source": [
    "b = HermitianOperator(\"-1,b\")\n",
    "b.label"
   ]
  },
  {
   "cell_type": "code",
   "execution_count": null,
   "metadata": {},
   "outputs": [],
   "source": []
  },
  {
   "cell_type": "code",
   "execution_count": null,
   "metadata": {},
   "outputs": [],
   "source": []
  }
 ],
 "metadata": {
  "kernelspec": {
   "display_name": "Python 3",
   "language": "python",
   "name": "python3"
  },
  "language_info": {
   "codemirror_mode": {
    "name": "ipython",
    "version": 3
   },
   "file_extension": ".py",
   "mimetype": "text/x-python",
   "name": "python",
   "nbconvert_exporter": "python",
   "pygments_lexer": "ipython3",
   "version": "3.7.2"
  },
  "varInspector": {
   "cols": {
    "lenName": 16,
    "lenType": 16,
    "lenVar": 40
   },
   "kernels_config": {
    "python": {
     "delete_cmd_postfix": "",
     "delete_cmd_prefix": "del ",
     "library": "var_list.py",
     "varRefreshCmd": "print(var_dic_list())"
    },
    "r": {
     "delete_cmd_postfix": ") ",
     "delete_cmd_prefix": "rm(",
     "library": "var_list.r",
     "varRefreshCmd": "cat(var_dic_list()) "
    }
   },
   "types_to_exclude": [
    "module",
    "function",
    "builtin_function_or_method",
    "instance",
    "_Feature"
   ],
   "window_display": false
  }
 },
 "nbformat": 4,
 "nbformat_minor": 2
}
