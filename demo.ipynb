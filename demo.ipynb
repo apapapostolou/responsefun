{
 "cells": [
  {
   "cell_type": "code",
   "execution_count": 1,
   "metadata": {},
   "outputs": [],
   "source": [
    "from sympy import init_printing, Symbol, limit\n",
    "init_printing()\n",
    "from responsefun.response.response_functions import ResponseFunction"
   ]
  },
  {
   "cell_type": "markdown",
   "metadata": {},
   "source": [
    "# Dipole polarizability"
   ]
  },
  {
   "cell_type": "code",
   "execution_count": 2,
   "metadata": {},
   "outputs": [
    {
     "name": "stdout",
     "output_type": "stream",
     "text": [
      "\\omega\n"
     ]
    },
    {
     "data": {
      "image/png": "[encoded data removed]",
      "text/latex": [
       "$$\\frac{{\\left\\langle 0\\right|} \\mu_\\beta {\\left|f\\right\\rangle } {\\left\\langle f\\right|} \\mu_\\alpha {\\left|0\\right\\rangle }}{\\omega + w_{f}} + \\frac{{\\left\\langle 0\\right|} \\mu_\\alpha {\\left|f\\right\\rangle } {\\left\\langle f\\right|} \\mu_\\beta {\\left|0\\right\\rangle }}{- \\omega + w_{f}}$$"
      ],
      "text/plain": [
       "⟨0❘⋅\\mu_\\beta⋅❘f⟩⋅⟨f❘⋅\\mu_\\alpha⋅❘0⟩   ⟨0❘⋅\\mu_\\alpha⋅❘f⟩⋅⟨f❘⋅\\mu_\\beta⋅❘0⟩\n",
       "──────────────────────────────────── + ────────────────────────────────────\n",
       "            \\omega + w_f                          -\\omega + w_f            "
      ]
     },
     "execution_count": 2,
     "metadata": {},
     "output_type": "execute_result"
    }
   ],
   "source": [
    "polarizability = ResponseFunction(r\"<<\\mu_\\alpha;-\\mu_\\beta>>\", [r\"\\omega\"])\n",
    "polarizability.sum_over_states.expression"
   ]
  },
  {
   "cell_type": "markdown",
   "metadata": {},
   "source": [
    "# First-order hyperpolarizability"
   ]
  },
  {
   "cell_type": "code",
   "execution_count": 3,
   "metadata": {},
   "outputs": [
    {
     "name": "stdout",
     "output_type": "stream",
     "text": [
      "\\omega_1 + \\omega_2\n"
     ]
    },
    {
     "data": {
      "image/png": "[encoded data removed]",
      "text/latex": [
       "$$\\frac{{\\left\\langle 0\\right|} \\mu_\\beta {\\left|n\\right\\rangle } {\\left\\langle n\\right|} \\bar{ \\mu_\\gamma } {\\left|f\\right\\rangle } {\\left\\langle f\\right|} \\mu_\\alpha {\\left|0\\right\\rangle }}{\\left(\\omega_2 + w_{n}\\right) \\left(\\omega_1 + \\omega_2 + w_{f}\\right)} + \\frac{{\\left\\langle 0\\right|} \\mu_\\alpha {\\left|n\\right\\rangle } {\\left\\langle n\\right|} \\bar{ \\mu_\\beta } {\\left|f\\right\\rangle } {\\left\\langle f\\right|} \\mu_\\gamma {\\left|0\\right\\rangle }}{\\left(- \\omega_2 + w_{f}\\right) \\left(- \\omega_1 - \\omega_2 + w_{n}\\right)} + \\frac{{\\left\\langle 0\\right|} \\mu_\\beta {\\left|n\\right\\rangle } {\\left\\langle n\\right|} \\bar{ \\mu_\\gamma } {\\left|f\\right\\rangle } {\\left\\langle f\\right|} \\mu_\\alpha {\\left|0\\right\\rangle }}{\\left(\\omega_1 + w_{n}\\right) \\left(\\omega_1 + \\omega_2 + w_{f}\\right)} + \\frac{{\\left\\langle 0\\right|} \\mu_\\beta {\\left|n\\right\\rangle } {\\left\\langle n\\right|} \\bar{ \\mu_\\alpha } {\\left|f\\right\\rangle } {\\left\\langle f\\right|} \\mu_\\gamma {\\left|0\\right\\rangle }}{\\left(\\omega_1 + w_{n}\\right) \\left(- \\omega_2 + w_{f}\\right)} + \\frac{{\\left\\langle 0\\right|} \\mu_\\alpha {\\left|n\\right\\rangle } {\\left\\langle n\\right|} \\bar{ \\mu_\\beta } {\\left|f\\right\\rangle } {\\left\\langle f\\right|} \\mu_\\gamma {\\left|0\\right\\rangle }}{\\left(- \\omega_1 + w_{f}\\right) \\left(- \\omega_1 - \\omega_2 + w_{n}\\right)} + \\frac{{\\left\\langle 0\\right|} \\mu_\\beta {\\left|n\\right\\rangle } {\\left\\langle n\\right|} \\bar{ \\mu_\\alpha } {\\left|f\\right\\rangle } {\\left\\langle f\\right|} \\mu_\\gamma {\\left|0\\right\\rangle }}{\\left(- \\omega_1 + w_{f}\\right) \\left(\\omega_2 + w_{n}\\right)}$$"
      ],
      "text/plain": [
       "⟨0❘⋅\\mu_\\beta⋅❘n⟩⋅⟨n❘⋅\\bar{ \\mu_\\gamma }⋅❘f⟩⋅⟨f❘⋅\\mu_\\alpha⋅❘0⟩   ⟨0❘⋅\\mu_\\alp\n",
       "─────────────────────────────────────────────────────────────── + ────────────\n",
       "            (\\omega₂ + wₙ)⋅(\\omega₁ + \\omega₂ + w_f)                         (\n",
       "\n",
       "ha⋅❘n⟩⋅⟨n❘⋅\\bar{ \\mu_\\beta }⋅❘f⟩⋅⟨f❘⋅\\mu_\\gamma⋅❘0⟩   ⟨0❘⋅\\mu_\\beta⋅❘n⟩⋅⟨n❘⋅\\b\n",
       "─────────────────────────────────────────────────── + ────────────────────────\n",
       "-\\omega₂ + w_f)⋅(-\\omega₁ - \\omega₂ + wₙ)                         (\\omega₁ + w\n",
       "\n",
       "ar{ \\mu_\\gamma }⋅❘f⟩⋅⟨f❘⋅\\mu_\\alpha⋅❘0⟩   ⟨0❘⋅\\mu_\\beta⋅❘n⟩⋅⟨n❘⋅\\bar{ \\mu_\\alp\n",
       "─────────────────────────────────────── + ────────────────────────────────────\n",
       "ₙ)⋅(\\omega₁ + \\omega₂ + w_f)                              (\\omega₁ + wₙ)⋅(-\\om\n",
       "\n",
       "ha }⋅❘f⟩⋅⟨f❘⋅\\mu_\\gamma⋅❘0⟩   ⟨0❘⋅\\mu_\\alpha⋅❘n⟩⋅⟨n❘⋅\\bar{ \\mu_\\beta }⋅❘f⟩⋅⟨f❘\n",
       "─────────────────────────── + ────────────────────────────────────────────────\n",
       "ega₂ + w_f)                              (-\\omega₁ + w_f)⋅(-\\omega₁ - \\omega₂ \n",
       "\n",
       "⋅\\mu_\\gamma⋅❘0⟩   ⟨0❘⋅\\mu_\\beta⋅❘n⟩⋅⟨n❘⋅\\bar{ \\mu_\\alpha }⋅❘f⟩⋅⟨f❘⋅\\mu_\\gamma⋅\n",
       "─────────────── + ────────────────────────────────────────────────────────────\n",
       "+ wₙ)                             (-\\omega₁ + w_f)⋅(\\omega₂ + wₙ)             \n",
       "\n",
       "❘0⟩\n",
       "───\n",
       "   "
      ]
     },
     "metadata": {},
     "output_type": "display_data"
    }
   ],
   "source": [
    "beta = ResponseFunction(r\"<<\\mu_\\alpha;-\\mu_\\beta,-\\mu_\\gamma>>\", [r\"\\omega_1\", r\"\\omega_2\"])\n",
    "display(beta.sum_over_states.expression)"
   ]
  },
  {
   "cell_type": "markdown",
   "metadata": {},
   "source": [
    "**set the frequencies to 0 (static hyperpolarizability)**"
   ]
  },
  {
   "cell_type": "code",
   "execution_count": 4,
   "metadata": {},
   "outputs": [
    {
     "name": "stdout",
     "output_type": "stream",
     "text": [
      "\\omega_1 + \\omega_2\n"
     ]
    },
    {
     "data": {
      "image/png": "[encoded data removed]",
      "text/latex": [
       "$$\\frac{2 {\\left\\langle 0\\right|} \\mu_\\beta {\\left|n\\right\\rangle } {\\left\\langle n\\right|} \\bar{ \\mu_\\gamma } {\\left|f\\right\\rangle } {\\left\\langle f\\right|} \\mu_\\alpha {\\left|0\\right\\rangle }}{w_{n} \\left(\\omega_1 + \\omega_2 + w_{f}\\right)} + \\frac{2 {\\left\\langle 0\\right|} \\mu_\\alpha {\\left|n\\right\\rangle } {\\left\\langle n\\right|} \\bar{ \\mu_\\beta } {\\left|f\\right\\rangle } {\\left\\langle f\\right|} \\mu_\\gamma {\\left|0\\right\\rangle }}{w_{f} \\left(- \\omega_1 - \\omega_2 + w_{n}\\right)} + \\frac{2 {\\left\\langle 0\\right|} \\mu_\\beta {\\left|n\\right\\rangle } {\\left\\langle n\\right|} \\bar{ \\mu_\\alpha } {\\left|f\\right\\rangle } {\\left\\langle f\\right|} \\mu_\\gamma {\\left|0\\right\\rangle }}{w_{f} w_{n}}$$"
      ],
      "text/plain": [
       "2⋅⟨0❘⋅\\mu_\\beta⋅❘n⟩⋅⟨n❘⋅\\bar{ \\mu_\\gamma }⋅❘f⟩⋅⟨f❘⋅\\mu_\\alpha⋅❘0⟩   2⋅⟨0❘⋅\\mu_\n",
       "───────────────────────────────────────────────────────────────── + ──────────\n",
       "                   wₙ⋅(\\omega₁ + \\omega₂ + w_f)                               \n",
       "\n",
       "\\alpha⋅❘n⟩⋅⟨n❘⋅\\bar{ \\mu_\\beta }⋅❘f⟩⋅⟨f❘⋅\\mu_\\gamma⋅❘0⟩   2⋅⟨0❘⋅\\mu_\\beta⋅❘n⟩⋅\n",
       "─────────────────────────────────────────────────────── + ────────────────────\n",
       "        w_f⋅(-\\omega₁ - \\omega₂ + wₙ)                                         \n",
       "\n",
       "⟨n❘⋅\\bar{ \\mu_\\alpha }⋅❘f⟩⋅⟨f❘⋅\\mu_\\gamma⋅❘0⟩\n",
       "─────────────────────────────────────────────\n",
       "          w_f⋅wₙ                             "
      ]
     },
     "metadata": {},
     "output_type": "display_data"
    }
   ],
   "source": [
    "# set frequencies to 0\n",
    "beta.sum_over_states.set_frequencies([0, 0])\n",
    "display(beta.sum_over_states.expression)"
   ]
  },
  {
   "cell_type": "markdown",
   "metadata": {},
   "source": [
    "**residual analysis (TPA matrix element)**"
   ]
  },
  {
   "cell_type": "code",
   "execution_count": 6,
   "metadata": {},
   "outputs": [
    {
     "name": "stdout",
     "output_type": "stream",
     "text": [
      "\\omega_1 + \\omega_2\n"
     ]
    },
    {
     "data": {
      "image/png": "[encoded data removed]",
      "text/latex": [
       "$$- \\frac{{\\left\\langle 0\\right|} \\mu_\\alpha {\\left|n\\right\\rangle } {\\left\\langle n\\right|} \\bar{ \\mu_\\beta } {\\left|f\\right\\rangle } {\\left\\langle f\\right|} \\mu_\\gamma {\\left|0\\right\\rangle }}{\\omega_1 + w_{f} - w_{n}} + \\frac{{\\left\\langle 0\\right|} \\mu_\\beta {\\left|n\\right\\rangle } {\\left\\langle n\\right|} \\bar{ \\mu_\\alpha } {\\left|f\\right\\rangle } {\\left\\langle f\\right|} \\mu_\\gamma {\\left|0\\right\\rangle }}{\\omega_1 + w_{n}}$$"
      ],
      "text/plain": [
       "  ⟨0❘⋅\\mu_\\alpha⋅❘n⟩⋅⟨n❘⋅\\bar{ \\mu_\\beta }⋅❘f⟩⋅⟨f❘⋅\\mu_\\gamma⋅❘0⟩   ⟨0❘⋅\\mu_\\b\n",
       "- ─────────────────────────────────────────────────────────────── + ──────────\n",
       "                         \\omega₁ + w_f - wₙ                                   \n",
       "\n",
       "eta⋅❘n⟩⋅⟨n❘⋅\\bar{ \\mu_\\alpha }⋅❘f⟩⋅⟨f❘⋅\\mu_\\gamma⋅❘0⟩\n",
       "─────────────────────────────────────────────────────\n",
       "                \\omega₁ + wₙ                         "
      ]
     },
     "execution_count": 6,
     "metadata": {},
     "output_type": "execute_result"
    }
   ],
   "source": [
    "beta.sum_over_states.reset_expression()\n",
    "beta.sum_over_states.insert_sum_frequency()\n",
    "residue = limit(\n",
    "    (Symbol(\"w_f\", real=True) - Symbol(r\"\\omega_2\", real=True)) * beta.sum_over_states.expression,\n",
    "    Symbol(r\"\\omega_2\", real=True), Symbol(\"w_f\", real=True)\n",
    ")\n",
    "residue"
   ]
  },
  {
   "cell_type": "code",
   "execution_count": null,
   "metadata": {},
   "outputs": [],
   "source": []
  }
 ],
 "metadata": {
  "kernelspec": {
   "display_name": "Python 3",
   "language": "python",
   "name": "python3"
  },
  "language_info": {
   "codemirror_mode": {
    "name": "ipython",
    "version": 3
   },
   "file_extension": ".py",
   "mimetype": "text/x-python",
   "name": "python",
   "nbconvert_exporter": "python",
   "pygments_lexer": "ipython3",
   "version": "3.7.3"
  }
 },
 "nbformat": 4,
 "nbformat_minor": 2
}
